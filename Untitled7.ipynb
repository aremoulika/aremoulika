{
 "cells": [
  {
   "cell_type": "code",
   "execution_count": 1,
   "id": "d6f9160b",
   "metadata": {},
   "outputs": [
    {
     "data": {
      "text/plain": [
       "18"
      ]
     },
     "execution_count": 1,
     "metadata": {},
     "output_type": "execute_result"
    }
   ],
   "source": [
    "x=\"my name is moulika\"\n",
    "len(x)"
   ]
  },
  {
   "cell_type": "code",
   "execution_count": 2,
   "id": "1542cb3e",
   "metadata": {},
   "outputs": [
    {
     "data": {
      "text/plain": [
       "'my name is moulika'"
      ]
     },
     "execution_count": 2,
     "metadata": {},
     "output_type": "execute_result"
    }
   ],
   "source": [
    "x.lower()"
   ]
  },
  {
   "cell_type": "code",
   "execution_count": 3,
   "id": "a1f8da34",
   "metadata": {},
   "outputs": [
    {
     "data": {
      "text/plain": [
       "'MY NAME IS MOULIKA'"
      ]
     },
     "execution_count": 3,
     "metadata": {},
     "output_type": "execute_result"
    }
   ],
   "source": [
    "x.upper()"
   ]
  },
  {
   "cell_type": "code",
   "execution_count": 4,
   "id": "2d965aa4",
   "metadata": {},
   "outputs": [
    {
     "data": {
      "text/plain": [
       "'#y na#e is #oulika'"
      ]
     },
     "execution_count": 4,
     "metadata": {},
     "output_type": "execute_result"
    }
   ],
   "source": [
    "x.replace('m','#')"
   ]
  },
  {
   "cell_type": "code",
   "execution_count": 8,
   "id": "109e64e2",
   "metadata": {},
   "outputs": [
    {
     "data": {
      "text/plain": [
       "4"
      ]
     },
     "execution_count": 8,
     "metadata": {},
     "output_type": "execute_result"
    }
   ],
   "source": [
    "y=\"my my my my name is moulika\"\n",
    "y.count(\"is\")\n",
    "y.count(\"my\")"
   ]
  },
  {
   "cell_type": "code",
   "execution_count": 9,
   "id": "d92faab9",
   "metadata": {},
   "outputs": [
    {
     "data": {
      "text/plain": [
       "8"
      ]
     },
     "execution_count": 9,
     "metadata": {},
     "output_type": "execute_result"
    }
   ],
   "source": [
    "s1=\"this is moulika\"\n",
    "s1.find(\"moulika\")"
   ]
  },
  {
   "cell_type": "code",
   "execution_count": 10,
   "id": "3da15b3d",
   "metadata": {},
   "outputs": [
    {
     "data": {
      "text/plain": [
       "0"
      ]
     },
     "execution_count": 10,
     "metadata": {},
     "output_type": "execute_result"
    }
   ],
   "source": [
    "s1.find(\"this\")"
   ]
  },
  {
   "cell_type": "code",
   "execution_count": 11,
   "id": "f8e723ac",
   "metadata": {},
   "outputs": [
    {
     "data": {
      "text/plain": [
       "2"
      ]
     },
     "execution_count": 11,
     "metadata": {},
     "output_type": "execute_result"
    }
   ],
   "source": [
    "s1.find(\"is\")"
   ]
  },
  {
   "cell_type": "code",
   "execution_count": 12,
   "id": "3da7b8e8",
   "metadata": {},
   "outputs": [
    {
     "data": {
      "text/plain": [
       "0"
      ]
     },
     "execution_count": 12,
     "metadata": {},
     "output_type": "execute_result"
    }
   ],
   "source": [
    "s1.find(\"this is moulika\")"
   ]
  },
  {
   "cell_type": "code",
   "execution_count": 14,
   "id": "01d05d9f",
   "metadata": {},
   "outputs": [
    {
     "name": "stdout",
     "output_type": "stream",
     "text": [
      "blue\n",
      "pen\n",
      "blue pen\n",
      "blue\n",
      "pencil\n",
      "blue pencil\n",
      "blue\n",
      "eraser\n",
      "blue eraser\n",
      "red\n",
      "pen\n",
      "red pen\n",
      "red\n",
      "pencil\n",
      "red pencil\n",
      "red\n",
      "eraser\n",
      "red eraser\n",
      "green\n",
      "pen\n",
      "green pen\n",
      "green\n",
      "pencil\n",
      "green pencil\n",
      "green\n",
      "eraser\n",
      "green eraser\n",
      "yellow\n",
      "pen\n",
      "yellow pen\n",
      "yellow\n",
      "pencil\n",
      "yellow pencil\n",
      "yellow\n",
      "eraser\n",
      "yellow eraser\n"
     ]
    }
   ],
   "source": [
    "color=[\"blue\",\"red\",\"green\",\"yellow\"]\n",
    "items=[\"pen\",\"pencil\",\"eraser\"]\n",
    "for i in color:\n",
    "    for j in items:\n",
    "        print(i)\n",
    "        print(j)\n",
    "        print(i,j)"
   ]
  },
  {
   "cell_type": "code",
   "execution_count": 23,
   "id": "33ac1b82",
   "metadata": {},
   "outputs": [
    {
     "name": "stdout",
     "output_type": "stream",
     "text": [
      "\n",
      "\n",
      "1 \n",
      "\n",
      "2 2 \n",
      "\n",
      "3 3 3 \n",
      "\n",
      "4 4 4 4 \n",
      "\n",
      "5 5 5 5 5 \n",
      "\n"
     ]
    }
   ],
   "source": [
    "for num in range(6):\n",
    "    for i in range(num):\n",
    "        print (num,end=\" \")\n",
    "        \n",
    "    print(\"\\n\")"
   ]
  },
  {
   "cell_type": "code",
   "execution_count": null,
   "id": "a55f5278",
   "metadata": {},
   "outputs": [],
   "source": []
  },
  {
   "cell_type": "code",
   "execution_count": null,
   "id": "1d8b8a09",
   "metadata": {},
   "outputs": [],
   "source": []
  }
 ],
 "metadata": {
  "kernelspec": {
   "display_name": "Python 3",
   "language": "python",
   "name": "python3"
  },
  "language_info": {
   "codemirror_mode": {
    "name": "ipython",
    "version": 3
   },
   "file_extension": ".py",
   "mimetype": "text/x-python",
   "name": "python",
   "nbconvert_exporter": "python",
   "pygments_lexer": "ipython3",
   "version": "3.8.8"
  }
 },
 "nbformat": 4,
 "nbformat_minor": 5
}
