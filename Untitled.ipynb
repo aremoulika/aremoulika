{
 "cells": [
  {
   "cell_type": "code",
   "execution_count": 1,
   "id": "c38cdfdf",
   "metadata": {},
   "outputs": [
    {
     "name": "stdout",
     "output_type": "stream",
     "text": [
      "hi\n"
     ]
    }
   ],
   "source": [
    "print(\"hi\")"
   ]
  },
  {
   "cell_type": "code",
   "execution_count": 2,
   "id": "b0c9f673",
   "metadata": {},
   "outputs": [
    {
     "name": "stdout",
     "output_type": "stream",
     "text": [
      "moulika\n"
     ]
    }
   ],
   "source": [
    "print(\"moulika\")"
   ]
  },
  {
   "cell_type": "code",
   "execution_count": 3,
   "id": "6edd377c",
   "metadata": {},
   "outputs": [
    {
     "name": "stdout",
     "output_type": "stream",
     "text": [
      "\n"
     ]
    }
   ],
   "source": [
    "print()"
   ]
  },
  {
   "cell_type": "code",
   "execution_count": 30,
   "id": "29373be9",
   "metadata": {},
   "outputs": [
    {
     "name": "stdout",
     "output_type": "stream",
     "text": [
      "python programming\n"
     ]
    }
   ],
   "source": [
    "s=\"python programming\"\n",
    "print(s)"
   ]
  },
  {
   "cell_type": "code",
   "execution_count": 2,
   "id": "18b2f7db",
   "metadata": {},
   "outputs": [
    {
     "name": "stdout",
     "output_type": "stream",
     "text": [
      "p\n"
     ]
    }
   ],
   "source": [
    "print(s[0])"
   ]
  },
  {
   "cell_type": "code",
   "execution_count": 3,
   "id": "4330d920",
   "metadata": {},
   "outputs": [
    {
     "name": "stdout",
     "output_type": "stream",
     "text": [
      "g\n"
     ]
    }
   ],
   "source": [
    "print(s[-1])"
   ]
  },
  {
   "cell_type": "code",
   "execution_count": 4,
   "id": "658a93a1",
   "metadata": {},
   "outputs": [
    {
     "data": {
      "text/plain": [
       "'python'"
      ]
     },
     "execution_count": 4,
     "metadata": {},
     "output_type": "execute_result"
    }
   ],
   "source": [
    "s[0:6]"
   ]
  },
  {
   "cell_type": "code",
   "execution_count": 5,
   "id": "95e7bb07",
   "metadata": {},
   "outputs": [
    {
     "data": {
      "text/plain": [
       "'ng'"
      ]
     },
     "execution_count": 5,
     "metadata": {},
     "output_type": "execute_result"
    }
   ],
   "source": [
    "s[-2:]\n",
    "\n"
   ]
  },
  {
   "cell_type": "code",
   "execution_count": 6,
   "id": "fcbaeefd",
   "metadata": {},
   "outputs": [
    {
     "data": {
      "text/plain": [
       "'python'"
      ]
     },
     "execution_count": 6,
     "metadata": {},
     "output_type": "execute_result"
    }
   ],
   "source": [
    "s[0:6:1]"
   ]
  },
  {
   "cell_type": "code",
   "execution_count": 7,
   "id": "06ec9818",
   "metadata": {},
   "outputs": [
    {
     "data": {
      "text/plain": [
       "'pto'"
      ]
     },
     "execution_count": 7,
     "metadata": {},
     "output_type": "execute_result"
    }
   ],
   "source": [
    "s[0:6:2]"
   ]
  },
  {
   "cell_type": "code",
   "execution_count": 10,
   "id": "62564539",
   "metadata": {},
   "outputs": [
    {
     "data": {
      "text/plain": [
       "'gnimmargorp nohtyp'"
      ]
     },
     "execution_count": 10,
     "metadata": {},
     "output_type": "execute_result"
    }
   ],
   "source": [
    "\n",
    "s[1:-1]\n",
    "s[::-1]"
   ]
  },
  {
   "cell_type": "code",
   "execution_count": 11,
   "id": "b2e8d2d7",
   "metadata": {},
   "outputs": [
    {
     "data": {
      "text/plain": [
       "18"
      ]
     },
     "execution_count": 11,
     "metadata": {},
     "output_type": "execute_result"
    }
   ],
   "source": [
    "len(s)"
   ]
  },
  {
   "cell_type": "code",
   "execution_count": 12,
   "id": "3b210721",
   "metadata": {},
   "outputs": [
    {
     "ename": "NameError",
     "evalue": "name 'mid' is not defined",
     "output_type": "error",
     "traceback": [
      "\u001b[1;31m---------------------------------------------------------------------------\u001b[0m",
      "\u001b[1;31mNameError\u001b[0m                                 Traceback (most recent call last)",
      "\u001b[1;32m<ipython-input-12-db168b2c1a33>\u001b[0m in \u001b[0;36m<module>\u001b[1;34m\u001b[0m\n\u001b[1;32m----> 1\u001b[1;33m \u001b[0mmid\u001b[0m\u001b[1;33m(\u001b[0m\u001b[0ms\u001b[0m\u001b[1;33m)\u001b[0m\u001b[1;33m\u001b[0m\u001b[1;33m\u001b[0m\u001b[0m\n\u001b[0m",
      "\u001b[1;31mNameError\u001b[0m: name 'mid' is not defined"
     ]
    }
   ],
   "source": [
    "mid(s)"
   ]
  },
  {
   "cell_type": "code",
   "execution_count": 16,
   "id": "b15bda85",
   "metadata": {},
   "outputs": [
    {
     "ename": "TypeError",
     "evalue": "unsupported operand type(s) for /: 'str' and 'int'",
     "output_type": "error",
     "traceback": [
      "\u001b[1;31m---------------------------------------------------------------------------\u001b[0m",
      "\u001b[1;31mTypeError\u001b[0m                                 Traceback (most recent call last)",
      "\u001b[1;32m<ipython-input-16-bbc2a000d9d5>\u001b[0m in \u001b[0;36m<module>\u001b[1;34m\u001b[0m\n\u001b[1;32m----> 1\u001b[1;33m \u001b[0mlen\u001b[0m\u001b[1;33m(\u001b[0m\u001b[0ms\u001b[0m\u001b[1;33m/\u001b[0m\u001b[1;36m2\u001b[0m\u001b[1;33m)\u001b[0m\u001b[1;33m\u001b[0m\u001b[1;33m\u001b[0m\u001b[0m\n\u001b[0m",
      "\u001b[1;31mTypeError\u001b[0m: unsupported operand type(s) for /: 'str' and 'int'"
     ]
    }
   ],
   "source": [
    "len(s/2)"
   ]
  },
  {
   "cell_type": "code",
   "execution_count": 22,
   "id": "401dffa1",
   "metadata": {},
   "outputs": [
    {
     "name": "stdout",
     "output_type": "stream",
     "text": [
      "o\n"
     ]
    }
   ],
   "source": [
    "print(s[len(s)//2])"
   ]
  },
  {
   "cell_type": "code",
   "execution_count": 23,
   "id": "79344d60",
   "metadata": {},
   "outputs": [
    {
     "data": {
      "text/plain": [
       "'po'"
      ]
     },
     "execution_count": 23,
     "metadata": {},
     "output_type": "execute_result"
    }
   ],
   "source": [
    "s[0:18:9]"
   ]
  },
  {
   "cell_type": "code",
   "execution_count": 24,
   "id": "7d24b002",
   "metadata": {},
   "outputs": [
    {
     "data": {
      "text/plain": [
       "'ng'"
      ]
     },
     "execution_count": 24,
     "metadata": {},
     "output_type": "execute_result"
    }
   ],
   "source": [
    "s[-3:-1]"
   ]
  },
  {
   "cell_type": "code",
   "execution_count": 25,
   "id": "835c2131",
   "metadata": {},
   "outputs": [
    {
     "data": {
      "text/plain": [
       "'ing'"
      ]
     },
     "execution_count": 25,
     "metadata": {},
     "output_type": "execute_result"
    }
   ],
   "source": [
    "s[-4:-1]"
   ]
  },
  {
   "cell_type": "code",
   "execution_count": 26,
   "id": "4971aa9e",
   "metadata": {},
   "outputs": [
    {
     "data": {
      "text/plain": [
       "'n'"
      ]
     },
     "execution_count": 26,
     "metadata": {},
     "output_type": "execute_result"
    }
   ],
   "source": [
    "s[-3]"
   ]
  },
  {
   "cell_type": "code",
   "execution_count": 27,
   "id": "dd6b710d",
   "metadata": {},
   "outputs": [
    {
     "data": {
      "text/plain": [
       "'ngq'"
      ]
     },
     "execution_count": 27,
     "metadata": {},
     "output_type": "execute_result"
    }
   ],
   "source": [
    "s[-3:]"
   ]
  },
  {
   "cell_type": "code",
   "execution_count": 28,
   "id": "bf553be3",
   "metadata": {},
   "outputs": [
    {
     "data": {
      "text/plain": [
       "'ngq'"
      ]
     },
     "execution_count": 28,
     "metadata": {},
     "output_type": "execute_result"
    }
   ],
   "source": [
    "s[-3:]"
   ]
  },
  {
   "cell_type": "code",
   "execution_count": 44,
   "id": "53e13f35",
   "metadata": {},
   "outputs": [
    {
     "data": {
      "text/plain": [
       "'nohtyp programming'"
      ]
     },
     "execution_count": 44,
     "metadata": {},
     "output_type": "execute_result"
    }
   ],
   "source": [
    "s[5::-1]+' '+s[7::]\n"
   ]
  },
  {
   "cell_type": "code",
   "execution_count": 47,
   "id": "4c26c321",
   "metadata": {},
   "outputs": [
    {
     "data": {
      "text/plain": [
       "'python programming'"
      ]
     },
     "execution_count": 47,
     "metadata": {},
     "output_type": "execute_result"
    }
   ],
   "source": [
    "s[0:-1:] +s[-1]"
   ]
  },
  {
   "cell_type": "code",
   "execution_count": 48,
   "id": "315b80bb",
   "metadata": {},
   "outputs": [
    {
     "name": "stdout",
     "output_type": "stream",
     "text": [
      "['__add__', '__class__', '__contains__', '__delattr__', '__dir__', '__doc__', '__eq__', '__format__', '__ge__', '__getattribute__', '__getitem__', '__getnewargs__', '__gt__', '__hash__', '__init__', '__init_subclass__', '__iter__', '__le__', '__len__', '__lt__', '__mod__', '__mul__', '__ne__', '__new__', '__reduce__', '__reduce_ex__', '__repr__', '__rmod__', '__rmul__', '__setattr__', '__sizeof__', '__str__', '__subclasshook__', 'capitalize', 'casefold', 'center', 'count', 'encode', 'endswith', 'expandtabs', 'find', 'format', 'format_map', 'index', 'isalnum', 'isalpha', 'isascii', 'isdecimal', 'isdigit', 'isidentifier', 'islower', 'isnumeric', 'isprintable', 'isspace', 'istitle', 'isupper', 'join', 'ljust', 'lower', 'lstrip', 'maketrans', 'partition', 'replace', 'rfind', 'rindex', 'rjust', 'rpartition', 'rsplit', 'rstrip', 'split', 'splitlines', 'startswith', 'strip', 'swapcase', 'title', 'translate', 'upper', 'zfill']\n"
     ]
    }
   ],
   "source": [
    "print(dir(str))"
   ]
  },
  {
   "cell_type": "code",
   "execution_count": 51,
   "id": "c9a558a8",
   "metadata": {},
   "outputs": [
    {
     "name": "stdout",
     "output_type": "stream",
     "text": [
      "True\n",
      "False\n"
     ]
    }
   ],
   "source": [
    "s=\"moulika\"\n",
    "print(s.islower())\n",
    "print(s.isupper())"
   ]
  },
  {
   "cell_type": "code",
   "execution_count": 55,
   "id": "1472979c",
   "metadata": {},
   "outputs": [
    {
     "name": "stdout",
     "output_type": "stream",
     "text": [
      "Moulika\n"
     ]
    }
   ],
   "source": [
    "print(s.capitalize())"
   ]
  },
  {
   "cell_type": "code",
   "execution_count": 65,
   "id": "5968b159",
   "metadata": {},
   "outputs": [
    {
     "name": "stdout",
     "output_type": "stream",
     "text": [
      "False\n"
     ]
    },
    {
     "ename": "NameError",
     "evalue": "name 'n' is not defined",
     "output_type": "error",
     "traceback": [
      "\u001b[1;31m---------------------------------------------------------------------------\u001b[0m",
      "\u001b[1;31mNameError\u001b[0m                                 Traceback (most recent call last)",
      "\u001b[1;32m<ipython-input-65-d6a287cdc8df>\u001b[0m in \u001b[0;36m<module>\u001b[1;34m\u001b[0m\n\u001b[0;32m      1\u001b[0m \u001b[0mprint\u001b[0m\u001b[1;33m(\u001b[0m\u001b[0ms\u001b[0m\u001b[1;33m.\u001b[0m\u001b[0mistitle\u001b[0m\u001b[1;33m(\u001b[0m\u001b[1;33m)\u001b[0m\u001b[1;33m)\u001b[0m\u001b[1;33m\u001b[0m\u001b[1;33m\u001b[0m\u001b[0m\n\u001b[1;32m----> 2\u001b[1;33m \u001b[0mprint\u001b[0m\u001b[1;33m(\u001b[0m\u001b[0mn\u001b[0m\u001b[1;33m.\u001b[0m\u001b[0mistitle\u001b[0m\u001b[1;33m(\u001b[0m\u001b[1;33m)\u001b[0m\u001b[1;33m)\u001b[0m\u001b[1;33m\u001b[0m\u001b[1;33m\u001b[0m\u001b[0m\n\u001b[0m",
      "\u001b[1;31mNameError\u001b[0m: name 'n' is not defined"
     ]
    }
   ],
   "source": [
    "print(s.istitle())\n",
    "print(n.istitle())"
   ]
  },
  {
   "cell_type": "code",
   "execution_count": 63,
   "id": "a9ff0b90",
   "metadata": {},
   "outputs": [
    {
     "name": "stdout",
     "output_type": "stream",
     "text": [
      "Moulika\n"
     ]
    }
   ],
   "source": [
    "print(s.title())"
   ]
  },
  {
   "cell_type": "code",
   "execution_count": 66,
   "id": "eceb173a",
   "metadata": {},
   "outputs": [
    {
     "data": {
      "text/plain": [
       "'This is moulika'"
      ]
     },
     "execution_count": 66,
     "metadata": {},
     "output_type": "execute_result"
    }
   ],
   "source": [
    "s=\"This is moulika\"\n",
    "s"
   ]
  },
  {
   "cell_type": "code",
   "execution_count": 70,
   "id": "0ff4f0ef",
   "metadata": {},
   "outputs": [
    {
     "name": "stdout",
     "output_type": "stream",
     "text": [
      "False\n",
      "This Is Moulika\n"
     ]
    }
   ],
   "source": [
    "print(s.istitle())\n",
    "print(s.title())"
   ]
  },
  {
   "cell_type": "code",
   "execution_count": 73,
   "id": "f40747dc",
   "metadata": {},
   "outputs": [
    {
     "name": "stdout",
     "output_type": "stream",
     "text": [
      "False\n"
     ]
    }
   ],
   "source": [
    "print(s.startswith(\"t\"))"
   ]
  },
  {
   "cell_type": "code",
   "execution_count": 74,
   "id": "607120b5",
   "metadata": {},
   "outputs": [
    {
     "name": "stdout",
     "output_type": "stream",
     "text": [
      "True\n"
     ]
    }
   ],
   "source": [
    "print(s.startswith(\"T\"))"
   ]
  },
  {
   "cell_type": "code",
   "execution_count": 75,
   "id": "06f00cd2",
   "metadata": {},
   "outputs": [
    {
     "name": "stdout",
     "output_type": "stream",
     "text": [
      "True\n"
     ]
    }
   ],
   "source": [
    "print(s.endswith(\"a\"))"
   ]
  },
  {
   "cell_type": "code",
   "execution_count": 76,
   "id": "46e6cb29",
   "metadata": {},
   "outputs": [
    {
     "name": "stdout",
     "output_type": "stream",
     "text": [
      "False\n"
     ]
    }
   ],
   "source": [
    "print(s.endswith(\"A\"))"
   ]
  },
  {
   "cell_type": "code",
   "execution_count": 96,
   "id": "f3e99d29",
   "metadata": {},
   "outputs": [
    {
     "name": "stdout",
     "output_type": "stream",
     "text": [
      "                     moulika                      \n",
      "o\n"
     ]
    }
   ],
   "source": [
    "s='moulika'\n",
    "print(s.center(50))\n",
    "print(s[1:2])\n",
    "\n"
   ]
  },
  {
   "cell_type": "code",
   "execution_count": 98,
   "id": "e1a21840",
   "metadata": {},
   "outputs": [
    {
     "name": "stdout",
     "output_type": "stream",
     "text": [
      "moulika#\n"
     ]
    }
   ],
   "source": [
    "print(s.center(8,'#'))"
   ]
  },
  {
   "cell_type": "code",
   "execution_count": 101,
   "id": "68ae474f",
   "metadata": {},
   "outputs": [
    {
     "name": "stdout",
     "output_type": "stream",
     "text": [
      "3\n"
     ]
    }
   ],
   "source": [
    "s=\"ooohelllooooo\"\n",
    "print(s.count(\"l\",0))"
   ]
  },
  {
   "cell_type": "code",
   "execution_count": 106,
   "id": "33fe1152",
   "metadata": {},
   "outputs": [
    {
     "name": "stdout",
     "output_type": "stream",
     "text": [
      "moulika#\n"
     ]
    }
   ],
   "source": [
    "a=\"moulika\"\n",
    "print(a.center(8,'#'))"
   ]
  },
  {
   "cell_type": "code",
   "execution_count": 126,
   "id": "5c7255c4",
   "metadata": {},
   "outputs": [
    {
     "name": "stdout",
     "output_type": "stream",
     "text": [
      "11\n",
      "3\n",
      "3\n",
      "3\n",
      "3\n",
      "11\n"
     ]
    }
   ],
   "source": [
    "s=\"ermamoualikaqw\"\n",
    "print(s.rfind(\"a\"))\n",
    "print(s.find(\"a\"))\n",
    "print(s.find(\"a\",3,))\n",
    "print(s.find(\"a\"))\n",
    "print(s.index(\"a\"))\n",
    "print(s.rindex(\"a\"))"
   ]
  },
  {
   "cell_type": "code",
   "execution_count": 127,
   "id": "a943f988",
   "metadata": {},
   "outputs": [
    {
     "name": "stdout",
     "output_type": "stream",
     "text": [
      "3\n"
     ]
    }
   ],
   "source": [
    "print(s.index(\"a\"))"
   ]
  },
  {
   "cell_type": "code",
   "execution_count": 128,
   "id": "8e36bbc0",
   "metadata": {},
   "outputs": [
    {
     "name": "stdout",
     "output_type": "stream",
     "text": [
      "11\n"
     ]
    }
   ],
   "source": [
    "print(s.rindex(\"a\"))"
   ]
  },
  {
   "cell_type": "code",
   "execution_count": 129,
   "id": "5684a9fe",
   "metadata": {},
   "outputs": [
    {
     "name": "stdout",
     "output_type": "stream",
     "text": [
      "7\n"
     ]
    }
   ],
   "source": [
    "print(s.index(\"a\",4))"
   ]
  },
  {
   "cell_type": "code",
   "execution_count": 1,
   "id": "ef63f154",
   "metadata": {},
   "outputs": [
    {
     "ename": "NameError",
     "evalue": "name 's' is not defined",
     "output_type": "error",
     "traceback": [
      "\u001b[1;31m---------------------------------------------------------------------------\u001b[0m",
      "\u001b[1;31mNameError\u001b[0m                                 Traceback (most recent call last)",
      "\u001b[1;32m<ipython-input-1-91ee5b89ad03>\u001b[0m in \u001b[0;36m<module>\u001b[1;34m\u001b[0m\n\u001b[1;32m----> 1\u001b[1;33m \u001b[0mprint\u001b[0m\u001b[1;33m(\u001b[0m\u001b[0ms\u001b[0m\u001b[1;33m.\u001b[0m\u001b[0mfind\u001b[0m\u001b[1;33m(\u001b[0m\u001b[1;34m\"z\"\u001b[0m\u001b[1;33m)\u001b[0m\u001b[1;33m)\u001b[0m\u001b[1;33m\u001b[0m\u001b[1;33m\u001b[0m\u001b[0m\n\u001b[0m",
      "\u001b[1;31mNameError\u001b[0m: name 's' is not defined"
     ]
    }
   ],
   "source": [
    "print(s.find(\"z\"))"
   ]
  },
  {
   "cell_type": "code",
   "execution_count": 2,
   "id": "18ada922",
   "metadata": {},
   "outputs": [
    {
     "name": "stdout",
     "output_type": "stream",
     "text": [
      "-1\n"
     ]
    }
   ],
   "source": [
    "s=\"ermamoualikaqw\"\n",
    "print(s.find(\"z\"))"
   ]
  },
  {
   "cell_type": "code",
   "execution_count": 3,
   "id": "f217a649",
   "metadata": {},
   "outputs": [
    {
     "ename": "ValueError",
     "evalue": "substring not found",
     "output_type": "error",
     "traceback": [
      "\u001b[1;31m---------------------------------------------------------------------------\u001b[0m",
      "\u001b[1;31mValueError\u001b[0m                                Traceback (most recent call last)",
      "\u001b[1;32m<ipython-input-3-63f0866bd902>\u001b[0m in \u001b[0;36m<module>\u001b[1;34m\u001b[0m\n\u001b[1;32m----> 1\u001b[1;33m \u001b[0mprint\u001b[0m\u001b[1;33m(\u001b[0m\u001b[0ms\u001b[0m\u001b[1;33m.\u001b[0m\u001b[0mindex\u001b[0m\u001b[1;33m(\u001b[0m\u001b[1;34m\"z\"\u001b[0m\u001b[1;33m)\u001b[0m\u001b[1;33m)\u001b[0m\u001b[1;33m\u001b[0m\u001b[1;33m\u001b[0m\u001b[0m\n\u001b[0m",
      "\u001b[1;31mValueError\u001b[0m: substring not found"
     ]
    }
   ],
   "source": [
    "print(s.index(\"z\"))"
   ]
  },
  {
   "cell_type": "code",
   "execution_count": 6,
   "id": "c3a32d57",
   "metadata": {},
   "outputs": [
    {
     "data": {
      "text/plain": [
       "'h       e       l       l       o'"
      ]
     },
     "execution_count": 6,
     "metadata": {},
     "output_type": "execute_result"
    }
   ],
   "source": [
    "s=\"h\\te\\tl\\tl\\to\"\n",
    "s.expandtabs()"
   ]
  },
  {
   "cell_type": "code",
   "execution_count": 8,
   "id": "74c167d9",
   "metadata": {},
   "outputs": [
    {
     "data": {
      "text/plain": [
       "'h\\ne\\nl\\nl\\no'"
      ]
     },
     "execution_count": 8,
     "metadata": {},
     "output_type": "execute_result"
    }
   ],
   "source": [
    "s=\"h\\ne\\nl\\nl\\no\"\n",
    "s.expandtabs()\n"
   ]
  },
  {
   "cell_type": "code",
   "execution_count": 12,
   "id": "6ad7f0ab",
   "metadata": {},
   "outputs": [],
   "source": [
    "a=\"This is {name} and i am {age} years old\".format(name=\"moulika\",age=\"18\")"
   ]
  },
  {
   "cell_type": "code",
   "execution_count": 15,
   "id": "bf00c58a",
   "metadata": {},
   "outputs": [
    {
     "name": "stdout",
     "output_type": "stream",
     "text": [
      "This is moulika and i am 18 years old\n"
     ]
    }
   ],
   "source": [
    "q=\"This is {} and i am {} years old\".format(\"moulika\",\"18\")\n",
    "print(a)"
   ]
  },
  {
   "cell_type": "code",
   "execution_count": 16,
   "id": "7d4a8b40",
   "metadata": {},
   "outputs": [
    {
     "data": {
      "text/plain": [
       "'This is moulika and i am 18 years old'"
      ]
     },
     "execution_count": 16,
     "metadata": {},
     "output_type": "execute_result"
    }
   ],
   "source": [
    "q"
   ]
  },
  {
   "cell_type": "code",
   "execution_count": 20,
   "id": "83ac31eb",
   "metadata": {},
   "outputs": [
    {
     "name": "stdout",
     "output_type": "stream",
     "text": [
      "False\n"
     ]
    }
   ],
   "source": [
    "m=\"moulika\"\n",
    "print(s.isalnum())"
   ]
  },
  {
   "cell_type": "code",
   "execution_count": 21,
   "id": "27a40201",
   "metadata": {},
   "outputs": [
    {
     "name": "stdout",
     "output_type": "stream",
     "text": [
      "True\n"
     ]
    }
   ],
   "source": [
    "print(m.isalpha())"
   ]
  },
  {
   "cell_type": "code",
   "execution_count": 25,
   "id": "be1bca83",
   "metadata": {},
   "outputs": [
    {
     "name": "stdout",
     "output_type": "stream",
     "text": [
      "True\n",
      "False\n",
      "True\n"
     ]
    }
   ],
   "source": [
    "s=\"123\"\n",
    "print(s.isalnum())\n",
    "print(s.isalpha())\n",
    "print(s.isdigit())"
   ]
  },
  {
   "cell_type": "code",
   "execution_count": 26,
   "id": "8dd8ba3b",
   "metadata": {},
   "outputs": [
    {
     "name": "stdout",
     "output_type": "stream",
     "text": [
      "True\n",
      "True\n",
      "True\n"
     ]
    }
   ],
   "source": [
    "print(s.isdigit())\n",
    "print(s.isdecimal())\n",
    "print(s.isnumeric())"
   ]
  },
  {
   "cell_type": "code",
   "execution_count": 28,
   "id": "02ebb285",
   "metadata": {},
   "outputs": [
    {
     "name": "stdout",
     "output_type": "stream",
     "text": [
      "True\n",
      "False\n",
      "True\n"
     ]
    }
   ],
   "source": [
    "c=\"\\u00B2\"\n",
    "print(c.isdigit())\n",
    "print(c.isdecimal())\n",
    "print(c.isnumeric())"
   ]
  },
  {
   "cell_type": "code",
   "execution_count": 33,
   "id": "2eac00d4",
   "metadata": {},
   "outputs": [
    {
     "data": {
      "text/plain": [
       "True"
      ]
     },
     "execution_count": 33,
     "metadata": {},
     "output_type": "execute_result"
    }
   ],
   "source": [
    "sp=\"            \"\n",
    "sp.isspace()"
   ]
  },
  {
   "cell_type": "code",
   "execution_count": 41,
   "id": "88e77576",
   "metadata": {},
   "outputs": [
    {
     "name": "stdout",
     "output_type": "stream",
     "text": [
      "moulika\n",
      "moulika    \n",
      "     moulika\n"
     ]
    }
   ],
   "source": [
    "st=\"     moulika    \"  \n",
    "print(st.strip())\n",
    "print(st.lstrip())\n",
    "print(st.rstrip())"
   ]
  },
  {
   "cell_type": "code",
   "execution_count": 59,
   "id": "35ae0c13",
   "metadata": {},
   "outputs": [
    {
     "data": {
      "text/plain": [
       "('this this this this is  ', 'a', ' moulika')"
      ]
     },
     "execution_count": 59,
     "metadata": {},
     "output_type": "execute_result"
    }
   ],
   "source": [
    "s=\"this this this this is  a moulika\"\n",
    "s.partition(\"a\")"
   ]
  },
  {
   "cell_type": "code",
   "execution_count": 60,
   "id": "cfe97b6a",
   "metadata": {},
   "outputs": [
    {
     "data": {
      "text/plain": [
       "['this', 'this', 'this', 'this', 'is', 'a', 'moulika']"
      ]
     },
     "execution_count": 60,
     "metadata": {},
     "output_type": "execute_result"
    }
   ],
   "source": [
    "s.split()"
   ]
  },
  {
   "cell_type": "code",
   "execution_count": 61,
   "id": "b44ca43d",
   "metadata": {},
   "outputs": [
    {
     "data": {
      "text/plain": [
       "('this this this this is  a moulik', 'a', '')"
      ]
     },
     "execution_count": 61,
     "metadata": {},
     "output_type": "execute_result"
    }
   ],
   "source": [
    "s.rpartition(\"a\")"
   ]
  },
  {
   "cell_type": "code",
   "execution_count": 55,
   "id": "4310a8d4",
   "metadata": {},
   "outputs": [
    {
     "data": {
      "text/plain": [
       "('hello ', 'hai', ' how are you hai all')"
      ]
     },
     "execution_count": 55,
     "metadata": {},
     "output_type": "execute_result"
    }
   ],
   "source": [
    "s=\"hello hai how are you hai all\"\n",
    "s.partition(\"hai\")"
   ]
  },
  {
   "cell_type": "code",
   "execution_count": 56,
   "id": "0d80f14d",
   "metadata": {},
   "outputs": [
    {
     "data": {
      "text/plain": [
       "('', 'hello', ' hai how are you hai all')"
      ]
     },
     "execution_count": 56,
     "metadata": {},
     "output_type": "execute_result"
    }
   ],
   "source": [
    "s.partition(\"hello\")"
   ]
  },
  {
   "cell_type": "code",
   "execution_count": 57,
   "id": "fc29bd48",
   "metadata": {},
   "outputs": [
    {
     "data": {
      "text/plain": [
       "('hello ', 'hai', ' how are you hai all')"
      ]
     },
     "execution_count": 57,
     "metadata": {},
     "output_type": "execute_result"
    }
   ],
   "source": [
    "s.partition(\"hai\")"
   ]
  },
  {
   "cell_type": "code",
   "execution_count": 58,
   "id": "fe3f7cdc",
   "metadata": {},
   "outputs": [
    {
     "data": {
      "text/plain": [
       "('hello hai how are you ', 'hai', ' all')"
      ]
     },
     "execution_count": 58,
     "metadata": {},
     "output_type": "execute_result"
    }
   ],
   "source": [
    "s.rpartition(\"hai\")"
   ]
  },
  {
   "cell_type": "code",
   "execution_count": 64,
   "id": "a3c3d130",
   "metadata": {},
   "outputs": [
    {
     "data": {
      "text/plain": [
       "'this is mouli'"
      ]
     },
     "execution_count": 64,
     "metadata": {},
     "output_type": "execute_result"
    }
   ],
   "source": [
    "s=\"this is moulika\"\n",
    "s.replace(\"moulika\",\"mouli\")"
   ]
  },
  {
   "cell_type": "code",
   "execution_count": 65,
   "id": "cc2e1d07",
   "metadata": {},
   "outputs": [],
   "source": [
    "s=\"hai hai hai how are you\""
   ]
  },
  {
   "cell_type": "code",
   "execution_count": 66,
   "id": "9df15211",
   "metadata": {},
   "outputs": [
    {
     "data": {
      "text/plain": [
       "'hello hai hai how are you'"
      ]
     },
     "execution_count": 66,
     "metadata": {},
     "output_type": "execute_result"
    }
   ],
   "source": [
    "s.replace(\"hai\",\"hello\",1)"
   ]
  },
  {
   "cell_type": "code",
   "execution_count": 67,
   "id": "0346e213",
   "metadata": {},
   "outputs": [
    {
     "data": {
      "text/plain": [
       "'hello hello hai how are you'"
      ]
     },
     "execution_count": 67,
     "metadata": {},
     "output_type": "execute_result"
    }
   ],
   "source": [
    "s.replace(\"hai\",\"hello\",2)"
   ]
  },
  {
   "cell_type": "code",
   "execution_count": 68,
   "id": "4bf13a2a",
   "metadata": {},
   "outputs": [
    {
     "data": {
      "text/plain": [
       "'mOUlIka'"
      ]
     },
     "execution_count": 68,
     "metadata": {},
     "output_type": "execute_result"
    }
   ],
   "source": [
    "s=\"MouLiKA\"\n",
    "s.swapcase()"
   ]
  },
  {
   "cell_type": "code",
   "execution_count": 70,
   "id": "a195d27d",
   "metadata": {},
   "outputs": [
    {
     "data": {
      "text/plain": [
       "'@@@@@@@@@@@@@moulika'"
      ]
     },
     "execution_count": 70,
     "metadata": {},
     "output_type": "execute_result"
    }
   ],
   "source": [
    "s=\"moulika\"\n",
    "s.rjust(20,\"@\")"
   ]
  },
  {
   "cell_type": "code",
   "execution_count": 71,
   "id": "875b0f1c",
   "metadata": {},
   "outputs": [
    {
     "data": {
      "text/plain": [
       "'moulika@@@@@@@@@@@@@'"
      ]
     },
     "execution_count": 71,
     "metadata": {},
     "output_type": "execute_result"
    }
   ],
   "source": [
    "s.ljust(20,\"@\")"
   ]
  },
  {
   "cell_type": "code",
   "execution_count": 72,
   "id": "b755d373",
   "metadata": {},
   "outputs": [
    {
     "data": {
      "text/plain": [
       "'00000000000000000000000moulika'"
      ]
     },
     "execution_count": 72,
     "metadata": {},
     "output_type": "execute_result"
    }
   ],
   "source": [
    "s.zfill(30)"
   ]
  },
  {
   "cell_type": "code",
   "execution_count": 79,
   "id": "b784b0b6",
   "metadata": {},
   "outputs": [
    {
     "data": {
      "text/plain": [
       "'moulika'"
      ]
     },
     "execution_count": 79,
     "metadata": {},
     "output_type": "execute_result"
    }
   ],
   "source": [
    "a=\"Moulika\"\n",
    "s.translate(\"a\")"
   ]
  },
  {
   "cell_type": "code",
   "execution_count": 80,
   "id": "a6dbf5f0",
   "metadata": {},
   "outputs": [
    {
     "data": {
      "text/plain": [
       "'moulika'"
      ]
     },
     "execution_count": 80,
     "metadata": {},
     "output_type": "execute_result"
    }
   ],
   "source": [
    "s.casefold()"
   ]
  },
  {
   "cell_type": "code",
   "execution_count": 81,
   "id": "00063df3",
   "metadata": {},
   "outputs": [
    {
     "data": {
      "text/plain": [
       "'moulika'"
      ]
     },
     "execution_count": 81,
     "metadata": {},
     "output_type": "execute_result"
    }
   ],
   "source": [
    "n=\"MOULIKA\"\n",
    "n.casefold()"
   ]
  },
  {
   "cell_type": "code",
   "execution_count": 83,
   "id": "eb5fadbc",
   "metadata": {},
   "outputs": [
    {
     "name": "stdout",
     "output_type": "stream",
     "text": [
      "moulika\n"
     ]
    }
   ],
   "source": [
    "print(n.lower())"
   ]
  },
  {
   "cell_type": "code",
   "execution_count": 84,
   "id": "e1f2ecab",
   "metadata": {},
   "outputs": [
    {
     "name": "stdout",
     "output_type": "stream",
     "text": [
      "MOULIKA\n"
     ]
    }
   ],
   "source": [
    "print(n.upper())"
   ]
  },
  {
   "cell_type": "code",
   "execution_count": 85,
   "id": "42b633e1",
   "metadata": {},
   "outputs": [
    {
     "data": {
      "text/plain": [
       "b'MOULIKA'"
      ]
     },
     "execution_count": 85,
     "metadata": {},
     "output_type": "execute_result"
    }
   ],
   "source": [
    "n.encode()"
   ]
  },
  {
   "cell_type": "code",
   "execution_count": 86,
   "id": "ed333207",
   "metadata": {},
   "outputs": [
    {
     "data": {
      "text/plain": [
       "'MOULIKA'"
      ]
     },
     "execution_count": 86,
     "metadata": {},
     "output_type": "execute_result"
    }
   ],
   "source": [
    "n.strip()"
   ]
  },
  {
   "cell_type": "code",
   "execution_count": 87,
   "id": "99284ee2",
   "metadata": {},
   "outputs": [
    {
     "data": {
      "text/plain": [
       "['hai ', ' how are you']"
      ]
     },
     "execution_count": 87,
     "metadata": {},
     "output_type": "execute_result"
    }
   ],
   "source": [
    "s=\"hai students how are you\"\n",
    "s.split(\"students\")"
   ]
  },
  {
   "cell_type": "code",
   "execution_count": 93,
   "id": "ca85e8dd",
   "metadata": {},
   "outputs": [
    {
     "data": {
      "text/plain": [
       "'hhai students how are youe'"
      ]
     },
     "execution_count": 93,
     "metadata": {},
     "output_type": "execute_result"
    }
   ],
   "source": [
    "s.join(\"he\")"
   ]
  },
  {
   "cell_type": "code",
   "execution_count": 96,
   "id": "9c29d2da",
   "metadata": {},
   "outputs": [
    {
     "data": {
      "text/plain": [
       "('', 'hai', ' students how are you')"
      ]
     },
     "execution_count": 96,
     "metadata": {},
     "output_type": "execute_result"
    }
   ],
   "source": [
    "s.partition(\"hai\")"
   ]
  },
  {
   "cell_type": "code",
   "execution_count": 97,
   "id": "2d4f456a",
   "metadata": {},
   "outputs": [
    {
     "data": {
      "text/plain": [
       "['', ' students how are you']"
      ]
     },
     "execution_count": 97,
     "metadata": {},
     "output_type": "execute_result"
    }
   ],
   "source": [
    "s.split(\"hai\")"
   ]
  },
  {
   "cell_type": "code",
   "execution_count": 98,
   "id": "56c3a3ee",
   "metadata": {},
   "outputs": [
    {
     "data": {
      "text/plain": [
       "['', ' how are you']"
      ]
     },
     "execution_count": 98,
     "metadata": {},
     "output_type": "execute_result"
    }
   ],
   "source": [
    "s.split(\"hai students\")"
   ]
  },
  {
   "cell_type": "code",
   "execution_count": 99,
   "id": "829bc018",
   "metadata": {},
   "outputs": [
    {
     "data": {
      "text/plain": [
       "['hai', 'students', 'how', 'are', 'you']"
      ]
     },
     "execution_count": 99,
     "metadata": {},
     "output_type": "execute_result"
    }
   ],
   "source": [
    "s.split()"
   ]
  },
  {
   "cell_type": "code",
   "execution_count": 100,
   "id": "cd3f23e7",
   "metadata": {},
   "outputs": [
    {
     "data": {
      "text/plain": [
       "['hai students how are you']"
      ]
     },
     "execution_count": 100,
     "metadata": {},
     "output_type": "execute_result"
    }
   ],
   "source": [
    "s.splitlines()"
   ]
  },
  {
   "cell_type": "code",
   "execution_count": 101,
   "id": "a269eb33",
   "metadata": {},
   "outputs": [
    {
     "data": {
      "text/plain": [
       "['hai ', 'students ', 'how ', 'are', ' you']"
      ]
     },
     "execution_count": 101,
     "metadata": {},
     "output_type": "execute_result"
    }
   ],
   "source": [
    "s=\"hai \\nstudents \\nhow \\nare\\n you\"\n",
    "s.splitlines()"
   ]
  },
  {
   "cell_type": "code",
   "execution_count": 102,
   "id": "e48fce4a",
   "metadata": {},
   "outputs": [
    {
     "data": {
      "text/plain": [
       "['hai \\n', 'students \\n', 'how \\n', 'are\\n', ' you']"
      ]
     },
     "execution_count": 102,
     "metadata": {},
     "output_type": "execute_result"
    }
   ],
   "source": [
    "s.splitlines(True)"
   ]
  },
  {
   "cell_type": "code",
   "execution_count": 105,
   "id": "3c2d0428",
   "metadata": {},
   "outputs": [],
   "source": [
    "s=\"hai students how are you students\"\n",
    "s1=s.split(\"students\")\n",
    "s2=\"friends\".join(s1)"
   ]
  },
  {
   "cell_type": "code",
   "execution_count": null,
   "id": "1ec016b6",
   "metadata": {},
   "outputs": [],
   "source": []
  },
  {
   "cell_type": "code",
   "execution_count": 106,
   "id": "ea611fdc",
   "metadata": {},
   "outputs": [
    {
     "data": {
      "text/plain": [
       "'hai friends how are you friends'"
      ]
     },
     "execution_count": 106,
     "metadata": {},
     "output_type": "execute_result"
    }
   ],
   "source": [
    "s2"
   ]
  },
  {
   "cell_type": "code",
   "execution_count": 107,
   "id": "2c04a8a6",
   "metadata": {},
   "outputs": [
    {
     "data": {
      "text/plain": [
       "'hai friends how are you friends'"
      ]
     },
     "execution_count": 107,
     "metadata": {},
     "output_type": "execute_result"
    }
   ],
   "source": [
    "s.replace(\"students\",\"friends\")"
   ]
  },
  {
   "cell_type": "code",
   "execution_count": 108,
   "id": "ffa54266",
   "metadata": {},
   "outputs": [
    {
     "data": {
      "text/plain": [
       "b'hai students how are you students'"
      ]
     },
     "execution_count": 108,
     "metadata": {},
     "output_type": "execute_result"
    }
   ],
   "source": [
    "s.encode()"
   ]
  },
  {
   "cell_type": "code",
   "execution_count": 114,
   "id": "ac2cef86",
   "metadata": {},
   "outputs": [
    {
     "data": {
      "text/plain": [
       "'hello sam '"
      ]
     },
     "execution_count": 114,
     "metadata": {},
     "output_type": "execute_result"
    }
   ],
   "source": [
    "hello={43:48}\n",
    "data=\"hello sam \"\n",
    "data.translate(hello)"
   ]
  },
  {
   "cell_type": "code",
   "execution_count": 120,
   "id": "78489ef6",
   "metadata": {},
   "outputs": [
    {
     "data": {
      "text/plain": [
       "7"
      ]
     },
     "execution_count": 120,
     "metadata": {},
     "output_type": "execute_result"
    }
   ],
   "source": [
    "#count the number of digits in a giver number\n",
    "s=\"2345643\"\n",
    "len(s)"
   ]
  },
  {
   "cell_type": "code",
   "execution_count": 124,
   "id": "03b501d9",
   "metadata": {},
   "outputs": [
    {
     "name": "stdout",
     "output_type": "stream",
     "text": [
      "123456789\n",
      "9\n"
     ]
    },
    {
     "data": {
      "text/plain": [
       "str"
      ]
     },
     "execution_count": 124,
     "metadata": {},
     "output_type": "execute_result"
    }
   ],
   "source": [
    "n=(input(\"\"))\n",
    "print(len(n))\n",
    "type(n)"
   ]
  },
  {
   "cell_type": "code",
   "execution_count": 129,
   "id": "90d53e20",
   "metadata": {},
   "outputs": [
    {
     "name": "stdout",
     "output_type": "stream",
     "text": [
      "enter a stringqwerty\n",
      "not palindrome\n"
     ]
    }
   ],
   "source": [
    "s=input(\"enter a string\")\n",
    "t=s[::-1]\n",
    "if t==s:\n",
    "    print(\"palindrome\")\n",
    "else:\n",
    "    print(\"not palindrome\")\n"
   ]
  },
  {
   "cell_type": "code",
   "execution_count": 131,
   "id": "bec946bf",
   "metadata": {},
   "outputs": [
    {
     "ename": "IndentationError",
     "evalue": "expected an indented block (<ipython-input-131-325a0999d7b6>, line 13)",
     "output_type": "error",
     "traceback": [
      "\u001b[1;36m  File \u001b[1;32m\"<ipython-input-131-325a0999d7b6>\"\u001b[1;36m, line \u001b[1;32m13\u001b[0m\n\u001b[1;33m    dig=n%10\u001b[0m\n\u001b[1;37m    ^\u001b[0m\n\u001b[1;31mIndentationError\u001b[0m\u001b[1;31m:\u001b[0m expected an indented block\n"
     ]
    }
   ],
   "source": [
    "x=input()\n",
    "y=x[len(x)-1: :-1]\n",
    "if x==y:\n",
    "    print('String is a palindrome')\n",
    "\n",
    "\n",
    " \n",
    "\n",
    "n=int(input(\"enter a value\"))\n",
    "temp=n\n",
    "rev=0\n",
    "while n>0 :\n",
    "dig=n%10\n",
    "rev=rev*10+dig\n",
    "n=n/10\n",
    "if rev==dig :\n",
    "    Print(\"num is palindrome\")\n",
    "else :\n",
    "    Print(\"num is not palindrome\")\n",
    "\n",
    "\n",
    "x=input()\n",
    "y=x[len(x)-1: :-1]\n",
    "if x==y:\n",
    "    print('String is a palindrome')\n",
    "else:\n",
    "    print('NOT a palindrome')\n",
    "\n",
    "\n",
    "#check if a string palindrome or not\n",
    "n=int(input('enter the value'))\n",
    "if n==n:\n",
    "    print('palindrome')\n",
    "else:\n",
    "    print('not a palindrome')\n",
    "\n",
    "\n",
    "n=int(input(\"enter n value\"))\n",
    "temp=num\n",
    "rev=0\n",
    "While temp!=0\n",
    "rev=(rev*10)+(temp%10)\n",
    "temp=temp//10\n",
    "if num==rev:\n",
    "    print(\"number is palindrome\")\n",
    "else:\n",
    "    Print(\"number is not palindrome\")\n",
    "\n",
    "\n",
    "n=int(input(\"enter a value\"))\n",
    "temp=n\n",
    "rev=0\n",
    "while n>0 :\n",
    "dig=n%10\n",
    "rev=rev*10+dig\n",
    "n=n/10\n",
    "If rev==dig :\n",
    "    Print(\"num is palindrome\")\n",
    "Else :\n",
    "    Print(\"num is not palindrome\")\n",
    "\n"
   ]
  },
  {
   "cell_type": "code",
   "execution_count": null,
   "id": "169d4214",
   "metadata": {},
   "outputs": [],
   "source": [
    "n=int(input(\"enter a value\"))\n",
    "temp=n\n",
    "rev=0\n",
    "while n>0 :\n",
    "    dig=n%10\n",
    "rev=rev*10+dig\n",
    "n=n/10\n",
    "if rev==dig :\n",
    "    Print(\"num is palindrome\")\n",
    "else :\n",
    "    Print(\"num is not palindrome\")"
   ]
  },
  {
   "cell_type": "code",
   "execution_count": null,
   "id": "f7635d22",
   "metadata": {},
   "outputs": [],
   "source": []
  },
  {
   "cell_type": "code",
   "execution_count": null,
   "id": "2febb3d9",
   "metadata": {},
   "outputs": [],
   "source": []
  }
 ],
 "metadata": {
  "kernelspec": {
   "display_name": "Python 3",
   "language": "python",
   "name": "python3"
  },
  "language_info": {
   "codemirror_mode": {
    "name": "ipython",
    "version": 3
   },
   "file_extension": ".py",
   "mimetype": "text/x-python",
   "name": "python",
   "nbconvert_exporter": "python",
   "pygments_lexer": "ipython3",
   "version": "3.8.8"
  }
 },
 "nbformat": 4,
 "nbformat_minor": 5
}
