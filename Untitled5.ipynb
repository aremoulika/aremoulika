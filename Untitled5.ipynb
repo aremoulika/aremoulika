{
 "cells": [
  {
   "cell_type": "markdown",
   "id": "8d131747",
   "metadata": {},
   "source": [
    "*italic*<br>\n",
    "**bold**"
   ]
  },
  {
   "cell_type": "markdown",
   "id": "637fbab2",
   "metadata": {},
   "source": [
    "* List\n",
    "    * sunlist\n",
    "        * inner sublist"
   ]
  },
  {
   "cell_type": "markdown",
   "id": "e1dfb717",
   "metadata": {},
   "source": [
    "> 1.ordered list1<br>\n",
    "> 2.ordered list2<br>\n",
    "> 3.ordered list3\n"
   ]
  },
  {
   "cell_type": "code",
   "execution_count": 1,
   "id": "205a16c5",
   "metadata": {},
   "outputs": [
    {
     "ename": "SyntaxError",
     "evalue": "invalid syntax (<ipython-input-1-5b164cf504e3>, line 1)",
     "output_type": "error",
     "traceback": [
      "\u001b[1;36m  File \u001b[1;32m\"<ipython-input-1-5b164cf504e3>\"\u001b[1;36m, line \u001b[1;32m1\u001b[0m\n\u001b[1;33m    <a href=\"https://www.google.com/\">Google</a>\u001b[0m\n\u001b[1;37m    ^\u001b[0m\n\u001b[1;31mSyntaxError\u001b[0m\u001b[1;31m:\u001b[0m invalid syntax\n"
     ]
    }
   ],
   "source": [
    "<a href=\"https://www.google.com/\">Google</a>"
   ]
  },
  {
   "cell_type": "markdown",
   "id": "bf459c21",
   "metadata": {},
   "source": [
    "<a href=\"https://www.google.com/\">Google</a>\n",
    "Y"
   ]
  },
  {
   "cell_type": "markdown",
   "id": "342d6e9f",
   "metadata": {},
   "source": [
    "Y"
   ]
  },
  {
   "cell_type": "markdown",
   "id": "8d3654b9",
   "metadata": {},
   "source": [
    "***italic & bold***"
   ]
  },
  {
   "cell_type": "markdown",
   "id": "4e132572",
   "metadata": {},
   "source": [
    "# heading1"
   ]
  },
  {
   "cell_type": "markdown",
   "id": "0816fbcf",
   "metadata": {},
   "source": [
    "# heading1\n",
    "<h1 style=\"color:red;background-color:green\">surya</h1>"
   ]
  },
  {
   "cell_type": "markdown",
   "id": "71004fe9",
   "metadata": {},
   "source": [
    "\n",
    "<img src=\"lion.jpg\" alt=\"lion image\">\n",
    "\n",
    "\n"
   ]
  },
  {
   "cell_type": "markdown",
   "id": "0cc617e7",
   "metadata": {},
   "source": []
  },
  {
   "cell_type": "code",
   "execution_count": 2,
   "id": "22c2906d",
   "metadata": {},
   "outputs": [
    {
     "name": "stdout",
     "output_type": "stream",
     "text": [
      "enter user nameqwerty\n",
      "enter password12345678\n"
     ]
    },
    {
     "ename": "NameError",
     "evalue": "name 'username' is not defined",
     "output_type": "error",
     "traceback": [
      "\u001b[1;31m---------------------------------------------------------------------------\u001b[0m",
      "\u001b[1;31mNameError\u001b[0m                                 Traceback (most recent call last)",
      "\u001b[1;32m<ipython-input-2-12d01098cfc0>\u001b[0m in \u001b[0;36m<module>\u001b[1;34m\u001b[0m\n\u001b[0;32m      1\u001b[0m \u001b[0mx\u001b[0m\u001b[1;33m=\u001b[0m\u001b[0minput\u001b[0m\u001b[1;33m(\u001b[0m\u001b[1;34m\"enter user name\"\u001b[0m\u001b[1;33m)\u001b[0m\u001b[1;33m\u001b[0m\u001b[1;33m\u001b[0m\u001b[0m\n\u001b[0;32m      2\u001b[0m \u001b[0my\u001b[0m\u001b[1;33m=\u001b[0m\u001b[0mint\u001b[0m\u001b[1;33m(\u001b[0m\u001b[0minput\u001b[0m\u001b[1;33m(\u001b[0m\u001b[1;34m\"enter password\"\u001b[0m\u001b[1;33m)\u001b[0m\u001b[1;33m)\u001b[0m\u001b[1;33m\u001b[0m\u001b[1;33m\u001b[0m\u001b[0m\n\u001b[1;32m----> 3\u001b[1;33m \u001b[1;32mif\u001b[0m \u001b[0musername\u001b[0m\u001b[1;33m==\u001b[0m\u001b[0mx\u001b[0m \u001b[1;32mand\u001b[0m \u001b[0mpassword\u001b[0m\u001b[1;33m==\u001b[0m\u001b[0my\u001b[0m\u001b[1;33m:\u001b[0m\u001b[1;33m\u001b[0m\u001b[1;33m\u001b[0m\u001b[0m\n\u001b[0m\u001b[0;32m      4\u001b[0m     \u001b[0mprint\u001b[0m\u001b[1;33m(\u001b[0m\u001b[1;34m\"login\"\u001b[0m\u001b[1;33m)\u001b[0m\u001b[1;33m\u001b[0m\u001b[1;33m\u001b[0m\u001b[0m\n\u001b[0;32m      5\u001b[0m \u001b[1;32melse\u001b[0m\u001b[1;33m:\u001b[0m\u001b[1;33m\u001b[0m\u001b[1;33m\u001b[0m\u001b[0m\n",
      "\u001b[1;31mNameError\u001b[0m: name 'username' is not defined"
     ]
    }
   ],
   "source": [
    "x=input(\"enter user name\")=user\n",
    "if username==x and password==y:\n",
    "    print(\"login\")\n",
    "else:\n",
    "    print(\"don not allow\")"
   ]
  },
  {
   "cell_type": "code",
   "execution_count": 6,
   "id": "16c368ff",
   "metadata": {},
   "outputs": [
    {
     "name": "stdout",
     "output_type": "stream",
     "text": [
      "enter usernameare\n",
      "enter password12345678\n",
      "login successful\n"
     ]
    }
   ],
   "source": [
    "user=\"are\"\n",
    "pwd=12345678\n",
    "username=input(\"enter username\")\n",
    "password=int(input(\"enter password\"))\n",
    "if user==username:\n",
    "    if pwd==password:\n",
    "        print(\"login successful\")\n",
    "else:\n",
    "    print(\"failed\")"
   ]
  },
  {
   "cell_type": "code",
   "execution_count": null,
   "id": "bc910a26",
   "metadata": {},
   "outputs": [],
   "source": []
  },
  {
   "cell_type": "code",
   "execution_count": null,
   "id": "cf2d6e95",
   "metadata": {},
   "outputs": [],
   "source": []
  },
  {
   "cell_type": "code",
   "execution_count": null,
   "id": "f89d9583",
   "metadata": {},
   "outputs": [],
   "source": []
  }
 ],
 "metadata": {
  "kernelspec": {
   "display_name": "Python 3",
   "language": "python",
   "name": "python3"
  },
  "language_info": {
   "codemirror_mode": {
    "name": "ipython",
    "version": 3
   },
   "file_extension": ".py",
   "mimetype": "text/x-python",
   "name": "python",
   "nbconvert_exporter": "python",
   "pygments_lexer": "ipython3",
   "version": "3.8.8"
  }
 },
 "nbformat": 4,
 "nbformat_minor": 5
}
